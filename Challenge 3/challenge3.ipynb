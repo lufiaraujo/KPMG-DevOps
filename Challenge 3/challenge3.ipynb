{
 "cells": [
  {
   "cell_type": "markdown",
   "id": "0422d42e",
   "metadata": {},
   "source": [
    "# Challenge #3\n",
    "\n",
    "**We have a nested object, we would like a function that you pass in the object and a key and get back the value. How this is implemented is up to you.**\n",
    "\n",
    " \n",
    "\n",
    "### Example Inputs\n",
    "\n",
    "* Example 1:\n",
    "    * object = {“a”:{“b”:{“c”:”d”}}}\n",
    "    * key = a/b/c\n",
    "    * value = d \n",
    "\n",
    "* Example 2:\n",
    "    * object = {“x”:{“y”:{“z”:”a”}}}\n",
    "    * key = x/y/z\n",
    "    * value = a\n",
    " \n",
    "\n",
    "### Hints\n",
    "\n",
    "1. We would like to see some tests. A quick read to help you along the way\n",
    "2. We would expect it in any other language apart from elixir.\n",
    "3. Again thank you for spending your precious time on our challenge."
   ]
  },
  {
   "cell_type": "code",
   "execution_count": 5,
   "id": "381895b8",
   "metadata": {},
   "outputs": [
    {
     "name": "stdout",
     "output_type": "stream",
     "text": [
      "['a', 'b', 'c']\n",
      "b/c\n",
      "['b', 'c']\n"
     ]
    }
   ],
   "source": [
    "#data input:\n",
    "\n",
    "obj_list = [\n",
    "    {\"a\":{\"b\":{\"c\":\"d\"}}},\n",
    "    {\"x\":{\"y\":{\"z\":\"a\"}}}\n",
    "]\n",
    "\n",
    "key_list = [\n",
    "    \"a/b/c\",\n",
    "    \"x/y/z\",\n",
    "    \"a/b/x\",\n",
    "    \"a/x/c\",\n",
    "    \"x/y/z/w\",\n",
    "    \"a/b/c/d/e/f\"\n",
    "]\n",
    "\n",
    "\n",
    "#Testing a hypothesis: if splitting a key to array,\n",
    "#I can recursivelly call the function for this exercise for a generic approach that will work with\n",
    "#objects and keys of different sizes\n",
    "\n",
    "k_array = key_list[0].split('/');\n",
    "print(k_array)\n",
    "\n",
    "k_array.pop(0);\n",
    "\n",
    "nu_k_array = '/'.join(k_array);\n",
    "\n",
    "print(nu_k_array);\n",
    "\n",
    "print(k_array);"
   ]
  },
  {
   "cell_type": "code",
   "execution_count": 2,
   "id": "5e3d4854",
   "metadata": {},
   "outputs": [],
   "source": [
    "def object_parser(obj, key):\n",
    "    key_array = key.split('/');\n",
    "    #print(key_array);\n",
    "    if len(key_array) > 1:\n",
    "        current_key = key_array.pop(0);\n",
    "        new_key = '/'.join(key_array);\n",
    "        try: \n",
    "            new_obj = obj[current_key];\n",
    "            return object_parser(new_obj, new_key);\n",
    "        except KeyError as ke:\n",
    "            print('Invalid key: ' + str(new_key));\n",
    "            return;\n",
    "        except TypeError as te:\n",
    "            print('Invalid key: ' + str(new_key));\n",
    "            return;\n",
    "    else:\n",
    "        return obj[key]"
   ]
  },
  {
   "cell_type": "code",
   "execution_count": 3,
   "id": "dc23976d",
   "metadata": {},
   "outputs": [
    {
     "name": "stdout",
     "output_type": "stream",
     "text": [
      "Testing case 1: object = {'a': {'b': {'c': 'd'}}}; key = a/b/c\n",
      "['a', 'b', 'c']\n",
      "['b', 'c']\n",
      "['c']\n",
      "value = d\n",
      "\n",
      "Testing case 2: object = {'a': {'b': {'c': 'd'}}}; key = x/y/z\n",
      "['x', 'y', 'z']\n",
      "Invalid key: y/z\n",
      "\n",
      "\n",
      "Testing case 3: object = {'a': {'b': {'c': 'd'}}}; key = a/b/x\n",
      "['a', 'b', 'x']\n",
      "['b', 'x']\n",
      "['x']\n",
      "Invalid key: x\n",
      "\n",
      "\n",
      "Testing case 4: object = {'a': {'b': {'c': 'd'}}}; key = a/x/c\n",
      "['a', 'x', 'c']\n",
      "['x', 'c']\n",
      "Invalid key: c\n",
      "\n",
      "\n",
      "Testing case 5: object = {'a': {'b': {'c': 'd'}}}; key = x/y/z/w\n",
      "['x', 'y', 'z', 'w']\n",
      "Invalid key: y/z/w\n",
      "\n",
      "\n",
      "Testing case 6: object = {'a': {'b': {'c': 'd'}}}; key = a/b/c/d/e/f\n",
      "['a', 'b', 'c', 'd', 'e', 'f']\n",
      "['b', 'c', 'd', 'e', 'f']\n",
      "['c', 'd', 'e', 'f']\n",
      "['d', 'e', 'f']\n",
      "Invalid key: e/f\n",
      "\n",
      "\n",
      "Testing case 7: object = {'x': {'y': {'z': 'a'}}}; key = a/b/c\n",
      "['a', 'b', 'c']\n",
      "Invalid key: b/c\n",
      "\n",
      "\n",
      "Testing case 8: object = {'x': {'y': {'z': 'a'}}}; key = x/y/z\n",
      "['x', 'y', 'z']\n",
      "['y', 'z']\n",
      "['z']\n",
      "value = a\n",
      "\n",
      "Testing case 9: object = {'x': {'y': {'z': 'a'}}}; key = a/b/x\n",
      "['a', 'b', 'x']\n",
      "Invalid key: b/x\n",
      "\n",
      "\n",
      "Testing case 10: object = {'x': {'y': {'z': 'a'}}}; key = a/x/c\n",
      "['a', 'x', 'c']\n",
      "Invalid key: x/c\n",
      "\n",
      "\n",
      "Testing case 11: object = {'x': {'y': {'z': 'a'}}}; key = x/y/z/w\n",
      "['x', 'y', 'z', 'w']\n",
      "['y', 'z', 'w']\n",
      "['z', 'w']\n",
      "['w']\n",
      "Invalid key: w\n",
      "\n",
      "\n",
      "Testing case 12: object = {'x': {'y': {'z': 'a'}}}; key = a/b/c/d/e/f\n",
      "['a', 'b', 'c', 'd', 'e', 'f']\n",
      "Invalid key: b/c/d/e/f\n",
      "\n",
      "\n"
     ]
    }
   ],
   "source": [
    "case = 0;\n",
    "for obj in obj_list:\n",
    "    for key in key_list:\n",
    "        case+=1;\n",
    "        print(\"Testing case \" + str(case) + \": object = \" + str(obj) + \"; key = \" + str(key));\n",
    "        value = object_parser(obj, key);\n",
    "        if value: print(\"value = \" + str(value) + \"\\n\");\n",
    "        else: print(\"\\n\")"
   ]
  },
  {
   "cell_type": "code",
   "execution_count": 200,
   "id": "14422ce1",
   "metadata": {},
   "outputs": [
    {
     "name": "stdout",
     "output_type": "stream",
     "text": [
      "['x', 'y', 'z', 'w']\n",
      "['y', 'z', 'w']\n",
      "['z', 'w']\n",
      "['w']\n",
      "Invalid key: w\n"
     ]
    }
   ],
   "source": [
    "object_parser(obj_list[1], key_list[4])"
   ]
  },
  {
   "cell_type": "code",
   "execution_count": null,
   "id": "792b5964",
   "metadata": {},
   "outputs": [],
   "source": []
  }
 ],
 "metadata": {
  "kernelspec": {
   "display_name": "Python 3 (ipykernel)",
   "language": "python",
   "name": "python3"
  },
  "language_info": {
   "codemirror_mode": {
    "name": "ipython",
    "version": 3
   },
   "file_extension": ".py",
   "mimetype": "text/x-python",
   "name": "python",
   "nbconvert_exporter": "python",
   "pygments_lexer": "ipython3",
   "version": "3.9.2"
  }
 },
 "nbformat": 4,
 "nbformat_minor": 5
}
