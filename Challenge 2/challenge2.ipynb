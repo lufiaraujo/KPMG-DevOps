{
 "cells": [
  {
   "cell_type": "markdown",
   "id": "0422d42e",
   "metadata": {},
   "source": [
    "# Challenge #2\n",
    "\n",
    "### Summary\n",
    "\n",
    "**We need to write code that will query the meta data of an instance within aws and provide a json formatted output. The choice of language and implementation is up to you.**\n",
    "\n",
    " \n",
    "\n",
    "### Bonus Points\n",
    "\n",
    "The code allows for a particular data key to be retrieved individually\n",
    " \n",
    "\n",
    "### Hints\n",
    "\n",
    "·       Aws Documentation: https://docs.aws.amazon.com/AWSEC2/latest/UserGuide/ec2-instance-metadata.html\n",
    "\n",
    "·       Azure Documentation: https://docs.microsoft.com/en-us/azure/virtual-machines/windows/instance-metadata-service?tabs=windows\n",
    "\n",
    "·       Google Documentation: https://cloud.google.com/compute/docs/metadata/overview"
   ]
  },
  {
   "cell_type": "code",
   "execution_count": 69,
   "id": "792b5964",
   "metadata": {},
   "outputs": [
    {
     "name": "stdout",
     "output_type": "stream",
     "text": [
      "['ami-id\\n', 'ami-launch-index\\n', 'ami-manifest-path\\n', 'block-device-mapping/\\n', 'events/\\n', 'hostname\\n', 'identity-credentials/\\n', 'instance-action\\n', 'instance-id\\n', 'instance-life-cycle\\n', 'instance-type\\n', 'local-hostname\\n', 'local-ipv4\\n', 'mac\\n', 'metrics/\\n', 'network/\\n', 'placement/\\n', 'profile\\n', 'public-hostname\\n', 'public-ipv4\\n', 'public-keys/\\n', 'reservation-id\\n', 'security-groups\\n', 'services/']\n"
     ]
    }
   ],
   "source": [
    "import paramiko\n",
    "ssh = paramiko.SSHClient()\n",
    "\n",
    "ssh.set_missing_host_key_policy(paramiko.AutoAddPolicy())\n",
    "\n",
    "\n",
    "#Function that establishes SSH access to AWS EC2, using private encryption key stored locally in ./challenge2.pem\n",
    "#and executes a curl command to retrieve metadata from the instance. Returns a list with the metadata output\n",
    "\n",
    "def getInstanceMetadata(key):\n",
    "    ssh.connect('3.8.205.85', username='ubuntu', key_filename='challenge2.pem')\n",
    "\n",
    "    stdin, stdout, stderr = ssh.exec_command('curl -H -v http://169.254.169.254/latest/meta-data/' + str(key))\n",
    "    keylist = stdout.readlines()\n",
    "    ssh.close()\n",
    "    \n",
    "    return keylist\n",
    "\n",
    "keylist = getInstanceMetadata('');\n",
    "print(keylist)"
   ]
  },
  {
   "cell_type": "code",
   "execution_count": 70,
   "id": "8c5710fa",
   "metadata": {},
   "outputs": [
    {
     "name": "stdout",
     "output_type": "stream",
     "text": [
      "['ami-id', 'ami-manifest-path', 'events/', 'identity-credentials/', 'instance-id', 'instance-type', 'local-ipv4', 'metrics/', 'placement/', 'public-hostname', 'public-keys/', 'security-groups', 'ami-id', 'events/', 'instance-id', 'local-ipv4', 'placement/', 'public-keys/', 'ami-id', 'instance-id', 'placement/', 'ami-id', 'placement/', 'placement/']\n"
     ]
    }
   ],
   "source": [
    "#Auxiliary function cleaning the '\\n' from list elements whenever present. Returns the same list without the line breaks.\n",
    "\n",
    "def cleanKeyList(keylist):\n",
    "    for element in keylist:\n",
    "        keylist.append(element.strip())\n",
    "        keylist.pop(0)\n",
    "    return(keylist)\n",
    "\n",
    "print(cleanKeyList(keylist))"
   ]
  },
  {
   "cell_type": "code",
   "execution_count": 115,
   "id": "3546a6ca",
   "metadata": {},
   "outputs": [
    {
     "name": "stdout",
     "output_type": "stream",
     "text": [
      "{'ami-id': 'ami-0a244485e2e4ffd03', 'ami-manifest-path': '(unknown)', 'events': {'events/maintenance': {'events/maintenance/history': '[]'}}, 'identity-credentials': {'identity-credentials/ec2': {'identity-credentials/ec2/info': '{'}}, 'instance-id': 'i-0d41f60bacd7d0be3', 'instance-type': 't2.micro', 'local-ipv4': '172.31.38.180', 'metrics': {'metrics/vhostmd': '<?xml version=\"1.0\" encoding=\"UTF-8\"?>'}, 'placement': {'placement/availability-zone': 'eu-west-2b', 'placement/region': 'eu-west-2'}, 'public-hostname': 'ec2-3-8-205-85.eu-west-2.compute.amazonaws.com', 'public-keys': {'public-keys/0=challenge2': '<?xml version=\"1.0\" encoding=\"iso-8859-1\"?>'}, 'security-groups': 'launch-wizard-2'}\n"
     ]
    }
   ],
   "source": [
    "#Function to access the metadata given a certain key. Based on AWS documentation, if the key has a \"/\",\n",
    "#it means there are sublevels within that metadata element, therefore the function is recursive. Returns a dictionary\n",
    "#with the key : values nested.\n",
    "\n",
    "def walkKeyValue(keylist):\n",
    "    props = {}\n",
    "    for element in keylist:\n",
    "        value = cleanKeyList(getInstanceMetadata(element))\n",
    "        if element[-1]!='/':\n",
    "            props[element]=value[0]\n",
    "        else:\n",
    "            props[element[:-1]]=walkKeyValue([element + k for k in value])\n",
    "    return(props)\n",
    "\n",
    "metadata_dict = walkKeyValue(keylist)\n",
    "print(metadata_dict)"
   ]
  }
 ],
 "metadata": {
  "kernelspec": {
   "display_name": "Python 3 (ipykernel)",
   "language": "python",
   "name": "python3"
  },
  "language_info": {
   "codemirror_mode": {
    "name": "ipython",
    "version": 3
   },
   "file_extension": ".py",
   "mimetype": "text/x-python",
   "name": "python",
   "nbconvert_exporter": "python",
   "pygments_lexer": "ipython3",
   "version": "3.9.2"
  }
 },
 "nbformat": 4,
 "nbformat_minor": 5
}
